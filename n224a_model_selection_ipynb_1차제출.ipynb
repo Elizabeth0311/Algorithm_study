{
  "nbformat": 4,
  "nbformat_minor": 0,
  "metadata": {
    "kernelspec": {
      "display_name": "Python 3",
      "language": "python",
      "name": "python3"
    },
    "language_info": {
      "codemirror_mode": {
        "name": "ipython",
        "version": 3
      },
      "file_extension": ".py",
      "mimetype": "text/x-python",
      "name": "python",
      "nbconvert_exporter": "python",
      "pygments_lexer": "ipython3",
      "version": "3.7.7"
    },
    "colab": {
      "name": "n224a-model-selection.ipynb 1차제출",
      "provenance": [],
      "include_colab_link": true
    }
  },
  "cells": [
    {
      "cell_type": "markdown",
      "metadata": {
        "id": "view-in-github",
        "colab_type": "text"
      },
      "source": [
        "<a href=\"https://colab.research.google.com/github/Elizabeth0311/Algorithm_study/blob/main/n224a_model_selection_ipynb_1%EC%B0%A8%EC%A0%9C%EC%B6%9C.ipynb\" target=\"_parent\"><img src=\"https://colab.research.google.com/assets/colab-badge.svg\" alt=\"Open In Colab\"/></a>"
      ]
    },
    {
      "cell_type": "markdown",
      "metadata": {
        "id": "9yM8afWBruOZ"
      },
      "source": [
        "<img align=\"right\" src=\"https://ds-cs-images.s3.ap-northeast-2.amazonaws.com/Codestates_Fulllogo_Color.png\" width=100>\n",
        "\n",
        "## *DATA SCIENCE / SECTION 2 / SPRINT 2 / NOTE 4*\n",
        "\n",
        "# 📝 Assignment\n",
        "---"
      ]
    },
    {
      "cell_type": "markdown",
      "metadata": {
        "id": "Drb8AZnVruOc"
      },
      "source": [
        "# 모델선택(Model Selection)\n",
        "\n",
        "### 1) 캐글 대회를 이어서 진행합니다. RandomizedSearchCV 를 사용하여 하이퍼파라미터 튜닝을 진행합니다.\n",
        "\n",
        "- [RandomForestClassifier](https://scikit-learn.org/stable/modules/generated/sklearn.ensemble.RandomForestClassifier.html)를 사용하세요.\n",
        "- 분류문제에서 맞는 [scoring parameter](https://scikit-learn.org/stable/modules/model_evaluation.html#common-cases-predefined-values) metric을 사용하세요.\n",
        "- [OrdinalEncoder](https://contrib.scikit-learn.org/categorical-encoding/ordinal.html) 사용을 권합니다.\n",
        "- RandomizedSearchCV 를 사용해서 하이퍼파라미터 튜닝을 진행하고 최고 성능을 보이는 모델로 예측을 진행한 후 캐글에 제출합니다.\n",
        "- **캐글 Leaderboard에서 개선된 본인 Score를 과제 제출폼에 제출하세요.**"
      ]
    },
    {
      "cell_type": "code",
      "metadata": {
        "id": "s79du3_2ruOd"
      },
      "source": [
        "! pip install --upgrade scikit-learn"
      ],
      "execution_count": null,
      "outputs": []
    },
    {
      "cell_type": "code",
      "metadata": {
        "id": "Yw3VpZ2Qr7kd"
      },
      "source": [
        "! pip install category_encoders"
      ],
      "execution_count": null,
      "outputs": []
    },
    {
      "cell_type": "code",
      "metadata": {
        "id": "-TkUr6PXsNBc"
      },
      "source": [
        "import pandas as pd\n",
        "import numpy as np\n",
        "import seaborn as sns\n",
        "import matplotlib.pyplot as plt\n",
        "\n",
        "from sklearn.model_selection import train_test_split"
      ],
      "execution_count": 1,
      "outputs": []
    },
    {
      "cell_type": "code",
      "metadata": {
        "id": "ugLAtTzRsKSy"
      },
      "source": [
        "target = 'vacc_h1n1_f'\n",
        "\n",
        "train = pd.merge(pd.read_csv('https://ds-lecture-data.s3.ap-northeast-2.amazonaws.com/vacc_flu/train.csv'), \n",
        "                 pd.read_csv('https://ds-lecture-data.s3.ap-northeast-2.amazonaws.com/vacc_flu/train_labels.csv')[target], left_index=True, right_index=True)\n",
        "test = pd.read_csv('https://ds-lecture-data.s3.ap-northeast-2.amazonaws.com/vacc_flu/test.csv')"
      ],
      "execution_count": 2,
      "outputs": []
    },
    {
      "cell_type": "code",
      "metadata": {
        "id": "g0swX3a9tfdZ"
      },
      "source": [
        "train.info()"
      ],
      "execution_count": null,
      "outputs": []
    },
    {
      "cell_type": "code",
      "metadata": {
        "id": "s1Yk0tbDU6Zn"
      },
      "source": [
        "# 훈련/검증세트로 나눔 \n",
        "train, val = train_test_split(train, train_size=0.8, random_state=5)"
      ],
      "execution_count": 3,
      "outputs": []
    },
    {
      "cell_type": "code",
      "metadata": {
        "id": "Kq5DRvzfUQgM"
      },
      "source": [
        "features = train.drop(columns=[target]).columns\n",
        "\n",
        "X_train = train[features]\n",
        "y_train = train[target]\n",
        "X_val = val[features]\n",
        "y_val = val[target]\n",
        "X_test = test[features]"
      ],
      "execution_count": 4,
      "outputs": []
    },
    {
      "cell_type": "code",
      "metadata": {
        "colab": {
          "base_uri": "https://localhost:8080/"
        },
        "id": "3Kbnml4nVxEM",
        "outputId": "4366ab3b-406f-4812-b5aa-f26095515af1"
      },
      "source": [
        "train.shape, val.shape"
      ],
      "execution_count": 5,
      "outputs": [
        {
          "output_type": "execute_result",
          "data": {
            "text/plain": [
              "((33723, 39), (8431, 39))"
            ]
          },
          "metadata": {
            "tags": []
          },
          "execution_count": 5
        }
      ]
    },
    {
      "cell_type": "code",
      "metadata": {
        "id": "2L86l_d0T56l"
      },
      "source": [
        "import numpy as np\n",
        "\n",
        "def engineer(df):\n",
        "    \"\"\"특성을 엔지니어링 하는 함수입니다.\"\"\"\n",
        "    \n",
        "    # 높은 카디널리티를 가지는 특성을 제거합니다.\n",
        "    selected_cols = df.select_dtypes(include=['number', 'object'])\n",
        "    labels = selected_cols.nunique() # 특성별 카디널리티 리스트\n",
        "    selected_features = labels[labels <= 30].index.tolist() # 카디널리티가 30보다 작은 특성만 선택합니다.\n",
        "    df = df[selected_features]\n",
        "    \n",
        "    # 새로운 특성을 생성합니다.\n",
        "    behaviorals = [col for col in df.columns if 'behavioral' in col] \n",
        "    df['behaviorals'] = df[behaviorals].sum(axis=1)\n",
        "    \n",
        "    \n",
        "    dels = [col for col in df.columns if ('employment' in col or 'seas' in col)]\n",
        "    df.drop(columns=dels, inplace=True)\n",
        "        \n",
        "    return df\n",
        "\n",
        "\n",
        "train = engineer(train)\n",
        "val = engineer(val)\n",
        "test = engineer(test)"
      ],
      "execution_count": 6,
      "outputs": []
    },
    {
      "cell_type": "code",
      "metadata": {
        "id": "47pP8haqWjXL"
      },
      "source": [
        "# 인코딩 \n",
        "\n",
        "from category_encoders import OrdinalEncoder\n",
        "enc = OrdinalEncoder(handle_missing=\"value\" , mapping= [\n",
        "\n",
        "{'col': 'opinion_h1n1_vacc_effective' , \n",
        " 'mapping': {'Somewhat Effective': 1, \n",
        "             'Not Very Effective': 6,\n",
        "             'Very Effective': 1 ,\n",
        "             'Not At All Effective': 5, \n",
        "             'Dont Know': 4, \n",
        "             'nan': 0,\n",
        "             'Refused': 3}}, \n",
        "{'col': 'opinion_h1n1_risk' , \n",
        " 'mapping': {'Somewhat Low': 5, \n",
        "             'Somewhat High' : 2, \n",
        "             'Very Low' : 6 , \n",
        "             'nan' : 0, \n",
        "             'Very High' : 1,\n",
        "             'Dont Know' : 4 , \n",
        "             'Refused' : 3}} , \n",
        "{'col' : 'opinion_h1n1_sick_from_vacc' , \n",
        " 'mapping' : {'Not At All Worried' : 3, \n",
        "              'Not Very Worried':4, \n",
        "              'Dont Know':5,\n",
        "              'Somewhat Worried':2, \n",
        "              'Very Worried':1, \n",
        "              'nan':0, \n",
        "              'Refused':6}},\n",
        "{'col' :'census_msa',\n",
        " 'mapping' : {'MSA, Not Principle City' : 2,\n",
        "              'MSA, Principle City': 1, \n",
        "              'Non-MSA' : 3}},\n",
        " {'col' :'agegrp', \n",
        "  'mapping' : {'18 - 34 Years' :3 , \n",
        "               '35 - 44 Years':4, \n",
        "               '65+ Years':5, \n",
        "               '55 - 64 Years':6,\n",
        "               '45 - 54 Years' : 7, \n",
        "               '6 Months - 9 Years' : 1, \n",
        "               '10 - 17 Years' : 2}} \n",
        "])\n",
        "\n",
        "X_train_encoded = enc.fit_transform(X_train)\n",
        "X_val_encoded = enc.transform(X_val)\n",
        "X_test_encoded = enc.transform(X_test)"
      ],
      "execution_count": 8,
      "outputs": []
    },
    {
      "cell_type": "code",
      "metadata": {
        "colab": {
          "base_uri": "https://localhost:8080/"
        },
        "id": "D_n8FiNJXH4x",
        "outputId": "96bdaa9e-3ec6-4b5c-b07f-6f629cb3147b"
      },
      "source": [
        "from sklearn.ensemble import RandomForestClassifier\n",
        "from sklearn.impute import SimpleImputer \n",
        "from sklearn.pipeline import make_pipeline\n",
        "from category_encoders import OrdinalEncoder\n",
        "from sklearn.model_selection import cross_val_score\n",
        "from sklearn.metrics import roc_auc_score\n",
        "\n",
        "pipe = make_pipeline(\n",
        "    OrdinalEncoder(),\n",
        "    SimpleImputer(),\n",
        "    RandomForestClassifier(random_state=10)\n",
        ")\n",
        "\n",
        "\n",
        "k = 4\n",
        "\n",
        "scores = cross_val_score(pipe, X_train_encoded, y_train, cv=k, \n",
        "                         scoring='roc_auc')\n",
        "\n",
        "pipe.fit(X_train_encoded, y_train)\n",
        "print('검증 정확도', pipe.score(X_val_encoded, y_val))\n",
        "print('roc_auc =', scores)"
      ],
      "execution_count": 9,
      "outputs": [
        {
          "output_type": "stream",
          "text": [
            "검증 정확도 0.8268295575851026\n",
            "roc_auc = [0.82782156 0.83334063 0.83595408 0.8329168 ]\n"
          ],
          "name": "stdout"
        }
      ]
    },
    {
      "cell_type": "code",
      "metadata": {
        "colab": {
          "base_uri": "https://localhost:8080/",
          "height": 404
        },
        "id": "9Vxqp1pjdFxM",
        "outputId": "2d993292-8eea-4d2a-e956-e626ce1715e3"
      },
      "source": [
        "import matplotlib.pyplot as plt\n",
        "from sklearn.model_selection import validation_curve\n",
        "\n",
        "depth = range(1, 30, 2)\n",
        "ts, vs = validation_curve(\n",
        "    pipe, X_train_encoded, y_train\n",
        "    , param_name='randomforestclassifier__max_depth'\n",
        "    , param_range=depth, scoring='roc_auc'\n",
        "    , cv=4\n",
        "    , n_jobs=2\n",
        ")\n",
        "\n",
        "train_scores_mean = np.mean(-ts, axis=1)\n",
        "validation_scores_mean = np.mean(-vs, axis=1)\n",
        "\n",
        "fig, ax = plt.subplots()\n",
        "# 훈련세트 검증곡선\n",
        "ax.plot(depth, train_scores_mean, label='training error')\n",
        "\n",
        "# 검증세트 검증곡선\n",
        "ax.plot(depth, validation_scores_mean, label='validation error')\n",
        "\n",
        "# 이상적인 max_depth\n",
        "ax.vlines(5,0, train_scores_mean.max(), color='blue')\n",
        "\n",
        "# 그래프 셋팅\n",
        "ax.set(title='Validation Curve'\n",
        "      , xlabel='Model Complexity(max_depth)', ylabel='roc_auc')\n",
        "ax.legend()\n",
        "fig.dpi = 100"
      ],
      "execution_count": 10,
      "outputs": [
        {
          "output_type": "display_data",
          "data": {
            "image/png": "[encoded data removed]",
            "text/plain": [
              "<Figure size 600x400 with 1 Axes>"
            ]
          },
          "metadata": {
            "tags": [],
            "needs_background": "light"
          }
        }
      ]
    },
    {
      "cell_type": "code",
      "metadata": {
        "colab": {
          "base_uri": "https://localhost:8080/"
        },
        "id": "__0ks8X0f7Es",
        "outputId": "b5ba57af-ed04-4886-bd0a-0cbe69d8abca"
      },
      "source": [
        "from sklearn.model_selection import RandomizedSearchCV\n",
        "from scipy.stats import randint, uniform\n",
        "\n",
        "pipe = make_pipeline(\n",
        "    OrdinalEncoder(),\n",
        "    SimpleImputer(),\n",
        "    RandomForestClassifier(random_state=10,)\n",
        ")\n",
        "\n",
        "\n",
        "dists = {\"randomforestclassifier__n_estimators\": randint(10, 100),\n",
        "         \"randomforestclassifier__max_depth\": [5, 10, 15, 20, None],\n",
        "          \"randomforestclassifier__max_features\": [2, 4, 6, 8, 10],\n",
        "          \"randomforestclassifier__min_samples_split\": [1, 3, 5, 6, 9]}\n",
        "\n",
        "\n",
        "clf = RandomizedSearchCV(\n",
        "        pipe,\n",
        "        param_distributions = dists,\n",
        "        n_iter = 10,\n",
        "        cv = 5,\n",
        "        scoring = 'roc_auc',\n",
        "        verbose=1,\n",
        "        n_jobs= 2 \n",
        ")\n",
        "\n",
        "clf.fit(X_train_encoded, y_train)\n"
      ],
      "execution_count": 11,
      "outputs": [
        {
          "output_type": "stream",
          "text": [
            "Fitting 5 folds for each of 10 candidates, totalling 50 fits\n"
          ],
          "name": "stdout"
        },
        {
          "output_type": "stream",
          "text": [
            "/usr/local/lib/python3.7/dist-packages/sklearn/model_selection/_search.py:925: UserWarning: One or more of the test scores are non-finite: [0.84232768 0.84397015        nan        nan        nan 0.83878423\n",
            " 0.83914614 0.83070356 0.84179322 0.8301381 ]\n",
            "  category=UserWarning\n"
          ],
          "name": "stderr"
        },
        {
          "output_type": "execute_result",
          "data": {
            "text/plain": [
              "RandomizedSearchCV(cv=5,\n",
              "                   estimator=Pipeline(steps=[('ordinalencoder',\n",
              "                                              OrdinalEncoder()),\n",
              "                                             ('simpleimputer', SimpleImputer()),\n",
              "                                             ('randomforestclassifier',\n",
              "                                              RandomForestClassifier(random_state=10))]),\n",
              "                   n_jobs=2,\n",
              "                   param_distributions={'randomforestclassifier__max_depth': [5,\n",
              "                                                                              10,\n",
              "                                                                              15,\n",
              "                                                                              20,\n",
              "                                                                              None],\n",
              "                                        'randomforestclassifier__max_features': [2,\n",
              "                                                                                 4,\n",
              "                                                                                 6,\n",
              "                                                                                 8,\n",
              "                                                                                 10],\n",
              "                                        'randomforestclassifier__min_samples_split': [1,\n",
              "                                                                                      3,\n",
              "                                                                                      5,\n",
              "                                                                                      6,\n",
              "                                                                                      9],\n",
              "                                        'randomforestclassifier__n_estimators': <scipy.stats._distn_infrastructure.rv_frozen object at 0x7f89a711a2d0>},\n",
              "                   scoring='roc_auc', verbose=1)"
            ]
          },
          "metadata": {
            "tags": []
          },
          "execution_count": 11
        }
      ]
    },
    {
      "cell_type": "code",
      "metadata": {
        "colab": {
          "base_uri": "https://localhost:8080/"
        },
        "id": "IGm_OmJjmilZ",
        "outputId": "9093f6cc-4f64-49dc-998e-e0b2c15d8072"
      },
      "source": [
        "print('최적 하이퍼파라미터: ', clf.best_params_)\n",
        "print('roc_auc: ', clf.best_score_)"
      ],
      "execution_count": 12,
      "outputs": [
        {
          "output_type": "stream",
          "text": [
            "최적 하이퍼파라미터:  {'randomforestclassifier__max_depth': 10, 'randomforestclassifier__max_features': 8, 'randomforestclassifier__min_samples_split': 6, 'randomforestclassifier__n_estimators': 83}\n",
            "roc_auc:  0.8439701463604556\n"
          ],
          "name": "stdout"
        }
      ]
    },
    {
      "cell_type": "code",
      "metadata": {
        "colab": {
          "base_uri": "https://localhost:8080/",
          "height": 613
        },
        "id": "BkWjyHa5mztJ",
        "outputId": "bd2f968e-fac3-47d0-bdde-0fe2739c203e"
      },
      "source": [
        "pd.DataFrame(clf.cv_results_).sort_values(by='rank_test_score').T\n"
      ],
      "execution_count": 13,
      "outputs": [
        {
          "output_type": "execute_result",
          "data": {
            "text/html": [
              "<div>\n",
              "<style scoped>\n",
              "    .dataframe tbody tr th:only-of-type {\n",
              "        vertical-align: middle;\n",
              "    }\n",
              "\n",
              "    .dataframe tbody tr th {\n",
              "        vertical-align: top;\n",
              "    }\n",
              "\n",
              "    .dataframe thead th {\n",
              "        text-align: right;\n",
              "    }\n",
              "</style>\n",
              "<table border=\"1\" class=\"dataframe\">\n",
              "  <thead>\n",
              "    <tr style=\"text-align: right;\">\n",
              "      <th></th>\n",
              "      <th>1</th>\n",
              "      <th>0</th>\n",
              "      <th>8</th>\n",
              "      <th>6</th>\n",
              "      <th>5</th>\n",
              "      <th>7</th>\n",
              "      <th>9</th>\n",
              "      <th>2</th>\n",
              "      <th>3</th>\n",
              "      <th>4</th>\n",
              "    </tr>\n",
              "  </thead>\n",
              "  <tbody>\n",
              "    <tr>\n",
              "      <th>mean_fit_time</th>\n",
              "      <td>3.03798</td>\n",
              "      <td>4.39954</td>\n",
              "      <td>5.59626</td>\n",
              "      <td>2.96926</td>\n",
              "      <td>2.47832</td>\n",
              "      <td>0.750077</td>\n",
              "      <td>0.676004</td>\n",
              "      <td>0.173672</td>\n",
              "      <td>0.187899</td>\n",
              "      <td>0.18659</td>\n",
              "    </tr>\n",
              "    <tr>\n",
              "      <th>std_fit_time</th>\n",
              "      <td>0.0284544</td>\n",
              "      <td>0.0294002</td>\n",
              "      <td>0.123408</td>\n",
              "      <td>0.0217233</td>\n",
              "      <td>0.0152781</td>\n",
              "      <td>0.0177078</td>\n",
              "      <td>0.00487672</td>\n",
              "      <td>0.00261078</td>\n",
              "      <td>0.0082391</td>\n",
              "      <td>0.0104285</td>\n",
              "    </tr>\n",
              "    <tr>\n",
              "      <th>mean_score_time</th>\n",
              "      <td>0.119981</td>\n",
              "      <td>0.143489</td>\n",
              "      <td>0.174371</td>\n",
              "      <td>0.12276</td>\n",
              "      <td>0.16227</td>\n",
              "      <td>0.0603315</td>\n",
              "      <td>0.0410712</td>\n",
              "      <td>0</td>\n",
              "      <td>0</td>\n",
              "      <td>0</td>\n",
              "    </tr>\n",
              "    <tr>\n",
              "      <th>std_score_time</th>\n",
              "      <td>0.00974707</td>\n",
              "      <td>0.00515467</td>\n",
              "      <td>0.0175101</td>\n",
              "      <td>0.00538556</td>\n",
              "      <td>0.0085705</td>\n",
              "      <td>0.00302197</td>\n",
              "      <td>0.00223176</td>\n",
              "      <td>0</td>\n",
              "      <td>0</td>\n",
              "      <td>0</td>\n",
              "    </tr>\n",
              "    <tr>\n",
              "      <th>param_randomforestclassifier__max_depth</th>\n",
              "      <td>10</td>\n",
              "      <td>15</td>\n",
              "      <td>15</td>\n",
              "      <td>None</td>\n",
              "      <td>20</td>\n",
              "      <td>15</td>\n",
              "      <td>5</td>\n",
              "      <td>None</td>\n",
              "      <td>15</td>\n",
              "      <td>20</td>\n",
              "    </tr>\n",
              "    <tr>\n",
              "      <th>param_randomforestclassifier__max_features</th>\n",
              "      <td>8</td>\n",
              "      <td>10</td>\n",
              "      <td>10</td>\n",
              "      <td>8</td>\n",
              "      <td>4</td>\n",
              "      <td>4</td>\n",
              "      <td>10</td>\n",
              "      <td>4</td>\n",
              "      <td>6</td>\n",
              "      <td>2</td>\n",
              "    </tr>\n",
              "    <tr>\n",
              "      <th>param_randomforestclassifier__min_samples_split</th>\n",
              "      <td>6</td>\n",
              "      <td>6</td>\n",
              "      <td>3</td>\n",
              "      <td>9</td>\n",
              "      <td>5</td>\n",
              "      <td>3</td>\n",
              "      <td>3</td>\n",
              "      <td>1</td>\n",
              "      <td>1</td>\n",
              "      <td>1</td>\n",
              "    </tr>\n",
              "    <tr>\n",
              "      <th>param_randomforestclassifier__n_estimators</th>\n",
              "      <td>83</td>\n",
              "      <td>78</td>\n",
              "      <td>99</td>\n",
              "      <td>57</td>\n",
              "      <td>73</td>\n",
              "      <td>20</td>\n",
              "      <td>23</td>\n",
              "      <td>63</td>\n",
              "      <td>81</td>\n",
              "      <td>48</td>\n",
              "    </tr>\n",
              "    <tr>\n",
              "      <th>params</th>\n",
              "      <td>{'randomforestclassifier__max_depth': 10, 'ran...</td>\n",
              "      <td>{'randomforestclassifier__max_depth': 15, 'ran...</td>\n",
              "      <td>{'randomforestclassifier__max_depth': 15, 'ran...</td>\n",
              "      <td>{'randomforestclassifier__max_depth': None, 'r...</td>\n",
              "      <td>{'randomforestclassifier__max_depth': 20, 'ran...</td>\n",
              "      <td>{'randomforestclassifier__max_depth': 15, 'ran...</td>\n",
              "      <td>{'randomforestclassifier__max_depth': 5, 'rand...</td>\n",
              "      <td>{'randomforestclassifier__max_depth': None, 'r...</td>\n",
              "      <td>{'randomforestclassifier__max_depth': 15, 'ran...</td>\n",
              "      <td>{'randomforestclassifier__max_depth': 20, 'ran...</td>\n",
              "    </tr>\n",
              "    <tr>\n",
              "      <th>split0_test_score</th>\n",
              "      <td>0.837867</td>\n",
              "      <td>0.837837</td>\n",
              "      <td>0.837284</td>\n",
              "      <td>0.83645</td>\n",
              "      <td>0.834798</td>\n",
              "      <td>0.823757</td>\n",
              "      <td>0.821367</td>\n",
              "      <td>NaN</td>\n",
              "      <td>NaN</td>\n",
              "      <td>NaN</td>\n",
              "    </tr>\n",
              "    <tr>\n",
              "      <th>split1_test_score</th>\n",
              "      <td>0.841516</td>\n",
              "      <td>0.838238</td>\n",
              "      <td>0.838316</td>\n",
              "      <td>0.836055</td>\n",
              "      <td>0.83249</td>\n",
              "      <td>0.823305</td>\n",
              "      <td>0.828176</td>\n",
              "      <td>NaN</td>\n",
              "      <td>NaN</td>\n",
              "      <td>NaN</td>\n",
              "    </tr>\n",
              "    <tr>\n",
              "      <th>split2_test_score</th>\n",
              "      <td>0.84625</td>\n",
              "      <td>0.843262</td>\n",
              "      <td>0.84312</td>\n",
              "      <td>0.841445</td>\n",
              "      <td>0.840803</td>\n",
              "      <td>0.834545</td>\n",
              "      <td>0.834444</td>\n",
              "      <td>NaN</td>\n",
              "      <td>NaN</td>\n",
              "      <td>NaN</td>\n",
              "    </tr>\n",
              "    <tr>\n",
              "      <th>split3_test_score</th>\n",
              "      <td>0.849609</td>\n",
              "      <td>0.85042</td>\n",
              "      <td>0.847884</td>\n",
              "      <td>0.843598</td>\n",
              "      <td>0.845746</td>\n",
              "      <td>0.83852</td>\n",
              "      <td>0.83419</td>\n",
              "      <td>NaN</td>\n",
              "      <td>NaN</td>\n",
              "      <td>NaN</td>\n",
              "    </tr>\n",
              "    <tr>\n",
              "      <th>split4_test_score</th>\n",
              "      <td>0.844609</td>\n",
              "      <td>0.841882</td>\n",
              "      <td>0.842361</td>\n",
              "      <td>0.838183</td>\n",
              "      <td>0.840085</td>\n",
              "      <td>0.83339</td>\n",
              "      <td>0.832513</td>\n",
              "      <td>NaN</td>\n",
              "      <td>NaN</td>\n",
              "      <td>NaN</td>\n",
              "    </tr>\n",
              "    <tr>\n",
              "      <th>mean_test_score</th>\n",
              "      <td>0.84397</td>\n",
              "      <td>0.842328</td>\n",
              "      <td>0.841793</td>\n",
              "      <td>0.839146</td>\n",
              "      <td>0.838784</td>\n",
              "      <td>0.830704</td>\n",
              "      <td>0.830138</td>\n",
              "      <td>NaN</td>\n",
              "      <td>NaN</td>\n",
              "      <td>NaN</td>\n",
              "    </tr>\n",
              "    <tr>\n",
              "      <th>std_test_score</th>\n",
              "      <td>0.00401668</td>\n",
              "      <td>0.00454838</td>\n",
              "      <td>0.0037844</td>\n",
              "      <td>0.00292735</td>\n",
              "      <td>0.00468487</td>\n",
              "      <td>0.00610049</td>\n",
              "      <td>0.0049272</td>\n",
              "      <td>NaN</td>\n",
              "      <td>NaN</td>\n",
              "      <td>NaN</td>\n",
              "    </tr>\n",
              "    <tr>\n",
              "      <th>rank_test_score</th>\n",
              "      <td>1</td>\n",
              "      <td>2</td>\n",
              "      <td>3</td>\n",
              "      <td>4</td>\n",
              "      <td>5</td>\n",
              "      <td>6</td>\n",
              "      <td>7</td>\n",
              "      <td>8</td>\n",
              "      <td>9</td>\n",
              "      <td>10</td>\n",
              "    </tr>\n",
              "  </tbody>\n",
              "</table>\n",
              "</div>"
            ],
            "text/plain": [
              "                                                                                                 1  ...                                                  4\n",
              "mean_fit_time                                                                              3.03798  ...                                            0.18659\n",
              "std_fit_time                                                                             0.0284544  ...                                          0.0104285\n",
              "mean_score_time                                                                           0.119981  ...                                                  0\n",
              "std_score_time                                                                          0.00974707  ...                                                  0\n",
              "param_randomforestclassifier__max_depth                                                         10  ...                                                 20\n",
              "param_randomforestclassifier__max_features                                                       8  ...                                                  2\n",
              "param_randomforestclassifier__min_samples_split                                                  6  ...                                                  1\n",
              "param_randomforestclassifier__n_estimators                                                      83  ...                                                 48\n",
              "params                                           {'randomforestclassifier__max_depth': 10, 'ran...  ...  {'randomforestclassifier__max_depth': 20, 'ran...\n",
              "split0_test_score                                                                         0.837867  ...                                                NaN\n",
              "split1_test_score                                                                         0.841516  ...                                                NaN\n",
              "split2_test_score                                                                          0.84625  ...                                                NaN\n",
              "split3_test_score                                                                         0.849609  ...                                                NaN\n",
              "split4_test_score                                                                         0.844609  ...                                                NaN\n",
              "mean_test_score                                                                            0.84397  ...                                                NaN\n",
              "std_test_score                                                                          0.00401668  ...                                                NaN\n",
              "rank_test_score                                                                                  1  ...                                                 10\n",
              "\n",
              "[17 rows x 10 columns]"
            ]
          },
          "metadata": {
            "tags": []
          },
          "execution_count": 13
        }
      ]
    },
    {
      "cell_type": "code",
      "metadata": {
        "id": "MsXFu69im84Z"
      },
      "source": [
        "pipe2 = clf.best_estimator_\n"
      ],
      "execution_count": 14,
      "outputs": []
    },
    {
      "cell_type": "code",
      "metadata": {
        "id": "cN9I7MS3pPFN"
      },
      "source": [
        "#재학습 \n",
        "\n",
        "train2, val2 = train_test_split(train, train_size=0.8, random_state= 5)"
      ],
      "execution_count": 15,
      "outputs": []
    },
    {
      "cell_type": "code",
      "metadata": {
        "id": "NftIjGurprSk"
      },
      "source": [
        "train2 = engineer(train2)\n",
        "val2 = engineer(val2)\n",
        "test = engineer(test)"
      ],
      "execution_count": 16,
      "outputs": []
    },
    {
      "cell_type": "code",
      "metadata": {
        "id": "efr4ytFOplF2"
      },
      "source": [
        "features = train.drop(columns=[target]).columns\n",
        "\n",
        "X_train2 = train2[features]\n",
        "y_train2 = train2[target]\n",
        "X_val2 = val2[features]\n",
        "y_val2 = val2[target]\n",
        "X_test = test[features]"
      ],
      "execution_count": 17,
      "outputs": []
    },
    {
      "cell_type": "code",
      "metadata": {
        "colab": {
          "base_uri": "https://localhost:8080/"
        },
        "id": "0jhxg_eMqQKV",
        "outputId": "d2245393-f578-4124-cee3-515bcd4dcb18"
      },
      "source": [
        "X_train2_encoded = enc.fit_transform(X_train2)\n",
        "X_val2_encoded = enc.transform(X_val2)\n",
        "X_test_encoded = enc.transform(X_test)"
      ],
      "execution_count": 18,
      "outputs": [
        {
          "output_type": "stream",
          "text": [
            "/usr/local/lib/python3.7/dist-packages/category_encoders/utils.py:21: FutureWarning: is_categorical is deprecated and will be removed in a future version.  Use is_categorical_dtype instead\n",
            "  elif pd.api.types.is_categorical(cols):\n"
          ],
          "name": "stderr"
        }
      ]
    },
    {
      "cell_type": "code",
      "metadata": {
        "colab": {
          "base_uri": "https://localhost:8080/"
        },
        "id": "DIWuUgPGqmw_",
        "outputId": "4d69f611-d6fb-4380-f661-f886707082ad"
      },
      "source": [
        "pipe2 = make_pipeline(\n",
        "    OrdinalEncoder(),\n",
        "    SimpleImputer(),\n",
        "    RandomForestClassifier(n_estimators = 83, min_samples_split = 6, max_features = 8 ,max_depth = 10, random_state=5, n_jobs=2, oob_score=True)\n",
        ")\n",
        "\n",
        "\n",
        "pipe.fit(X_train2_encoded, y_train2)\n",
        "print('검증 정확도', pipe.score(X_val2_encoded, y_val2))"
      ],
      "execution_count": 19,
      "outputs": [
        {
          "output_type": "stream",
          "text": [
            "검증 정확도 0.8229799851742031\n"
          ],
          "name": "stdout"
        }
      ]
    },
    {
      "cell_type": "code",
      "metadata": {
        "id": "I36KsqOit6Z2"
      },
      "source": [
        "y_pred = pipe.predict(X_test_encoded)"
      ],
      "execution_count": 20,
      "outputs": []
    },
    {
      "cell_type": "code",
      "metadata": {
        "id": "KZTE3w2xuQU2"
      },
      "source": [
        "submission = pd.DataFrame(y_pred,)\n",
        "submission.reset_index(inplace=True)\n",
        "submission.columns=['Id','vacc_h1n1_f']\n",
        "submission.set_index('Id', inplace=True)\n",
        "submission"
      ],
      "execution_count": null,
      "outputs": []
    },
    {
      "cell_type": "code",
      "metadata": {
        "colab": {
          "base_uri": "https://localhost:8080/"
        },
        "id": "WYW5ecV5udJA",
        "outputId": "ef2eb972-facc-4b09-d4d7-38c5ee91c317"
      },
      "source": [
        "from google.colab import drive\n",
        "drive.mount('/content/drive')"
      ],
      "execution_count": 70,
      "outputs": [
        {
          "output_type": "stream",
          "text": [
            "Mounted at /content/drive\n"
          ],
          "name": "stdout"
        }
      ]
    },
    {
      "cell_type": "code",
      "metadata": {
        "id": "BYC4x9KTuSsE"
      },
      "source": [
        "submission.to_csv('/content/drive/MyDrive/Code states/submission.csv')"
      ],
      "execution_count": 22,
      "outputs": []
    },
    {
      "cell_type": "code",
      "metadata": {
        "id": "y5x7qOhUvGCX"
      },
      "source": [
        "0.53739"
      ],
      "execution_count": null,
      "outputs": []
    },
    {
      "cell_type": "markdown",
      "metadata": {
        "id": "T2QSn4NUruOe"
      },
      "source": [
        "## 🔥 도전과제"
      ]
    },
    {
      "cell_type": "markdown",
      "metadata": {
        "id": "FsNwQAA7ruOe"
      },
      "source": [
        "\n",
        "### 2) [`GridSearchCV`](https://scikit-learn.org/stable/modules/generated/sklearn.model_selection.GridSearchCV.html) 를 사용하여 하이퍼파라미터 튜닝을 진행합니다.\n",
        "- 모델 성능을 높이기 위해 가능한 시도를 다 해보세요.\n",
        "- 모델 성능에 가장 큰 영향을 준 하이퍼파라미터에 대해서 분석하고 설명해 보세요.\n",
        "\n"
      ]
    },
    {
      "cell_type": "code",
      "metadata": {
        "id": "GOahsj6fruOe"
      },
      "source": [
        "### 이곳에서 과제를 진행해 주세요 ### "
      ],
      "execution_count": null,
      "outputs": []
    }
  ]
}